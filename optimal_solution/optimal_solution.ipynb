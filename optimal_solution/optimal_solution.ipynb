{
  "cells": [
    {
      "cell_type": "code",
      "execution_count": 2,
      "metadata": {
        "id": "uqg_1GRZv8S7"
      },
      "outputs": [],
      "source": [
        "import numpy as np\n",
        "from gekko import gekko as ge\n",
        "import matplotlib.pyplot as plt\n",
        "import pandas as pd"
      ]
    },
    {
      "cell_type": "code",
      "execution_count": 3,
      "metadata": {
        "id": "nV7bY8wVi9fO"
      },
      "outputs": [],
      "source": [
        "\n",
        "def plotter(data, action, battery, net_energy, act, battery_, net_energy_, price, load, wind, solar):\n",
        "    fig, axes = plt.subplots(1, 3, figsize=(20, 7))\n",
        "    x = range(len(price))\n",
        "    if data:\n",
        "        axes[0].plot(x, price, color='red' , label = 'price')\n",
        "        axes[0].set_title('price', fontsize = 20)\n",
        "        axes[0].set_xticks(range(len(price) + 1))\n",
        "\n",
        "    if action:\n",
        "        axes[1].plot(x, act, color='black')\n",
        "        axes[1].set_title('action', fontsize = 20)\n",
        "        axes[1].set_xticks(range(len(price) + 1))\n",
        "\n",
        "    if battery:\n",
        "        axes[2].plot(battery_, label='battery' , color = 'green')\n",
        "        axes[2].set_title('battery charge', fontsize = 20)\n",
        "        axes[2].set_xticks(range(len(price) + 1))\n",
        "\n",
        "    fig.tight_layout(pad=0.8)\n",
        "    # plt.savefig('optim.png', dpi = 1200)\n",
        "    plt.show()"
      ]
    },
    {
      "cell_type": "code",
      "execution_count": 4,
      "metadata": {
        "id": "fZUIxQb9wC7t"
      },
      "outputs": [],
      "source": [
        "\n",
        "def solve(steps, load, solar, wind, price,  parameters):\n",
        "    battery_capacity = parameters['battery_capacity']\n",
        "    max_battery_charge_per_timestep = parameters['max_battery_charge_per_timestep']\n",
        "    action_value = parameters['action_value']\n",
        "    sell_back_price_factor = parameters['sell_back_price_factor']\n",
        "    initial_charge_on_battery = parameters['initial_charge_on_battery']\n",
        "    min_charge_on_battery = parameters['min_charge_on_battery']\n",
        "    emission_rate = parameters['emission_rate']\n",
        "    lambda_co2 = parameters['lambda_co2']\n",
        "\n",
        "    m = ge(remote=False, name='House')\n",
        "\n",
        "    battery = m.Array(f=m.Var, dim=steps + 1, value=initial_charge_on_battery, lb=min_charge_on_battery, ub=battery_capacity)\n",
        "    action = m.Array(f=m.Var, dim=steps, value=-1, lb=-action_value, ub=action_value)\n",
        "    net_energy = m.Array(f=m.Var, dim=steps, value=0)\n",
        "    cost = m.Array(f=m.Var, dim=steps, value=0)\n",
        "    equations = []\n",
        "\n",
        "    equations.append(battery[0] == min_charge_on_battery)\n",
        "\n",
        "    for t in range(steps):\n",
        "        equations.append(battery[t + 1] == battery[t] + round(action[t], 4) * max_battery_charge_per_timestep)\n",
        "        equations.append(net_energy[t] == m.sum([load[t], -solar[t], -wind[t], round(action[t], 4) * max_battery_charge_per_timestep]))\n",
        "\n",
        "        cost[t] = m.if3(\n",
        "            condition=net_energy[t],\n",
        "            x1=net_energy[t] * (price[t] * sell_back_price_factor),\n",
        "            x2=net_energy[t] * price[t]\n",
        "        )\n",
        "\n",
        "    m.Minimize(lambda_co2 * m.sum(cost) + (1 - lambda_co2) * m.sum(net_energy) * emission_rate)\n",
        "    m.Equations(equations)\n",
        "    m.solve(disp=False)\n",
        "    \n",
        "\n",
        "    return m.options.objfcnval, action, battery, net_energy, cost"
      ]
    },
    {
      "cell_type": "code",
      "execution_count": 5,
      "metadata": {
        "id": "zV17kVHcwH6P"
      },
      "outputs": [],
      "source": [
        "# Loading the Data\n",
        "data = pd.read_csv('test.csv')\n",
        "load = data.load\n",
        "solar = 0.24*data.solar\n",
        "wind = 0.12*data.wind\n",
        "price = data.price\n",
        "steps = len(data)"
      ]
    },
    {
      "cell_type": "code",
      "execution_count": 9,
      "metadata": {
        "id": "57mKEB5wwJS-"
      },
      "outputs": [],
      "source": [
        "# Defining the Parameters\n",
        "parameters = {\n",
        "    'battery_capacity': 100,\n",
        "    'max_battery_charge_per_timestep': 20,\n",
        "    'action_value': 1,\n",
        "    'sell_back_price_factor': 0.5,\n",
        "    'initial_charge_on_battery': 0,\n",
        "    'min_charge_on_battery': 0,\n",
        "    'emission_rate': 50,\n",
        "    'lambda_co2': 0.8\n",
        "}\n"
      ]
    },
    {
      "cell_type": "code",
      "execution_count": null,
      "metadata": {
        "id": "HdYx_U-zwOcO"
      },
      "outputs": [],
      "source": [
        "# Optimization Step\n",
        "reward, action, battery, net_energy, cost= solve(steps, load = load, solar = solar, wind = wind, price = price, parameters = parameters)"
      ]
    },
    {
      "cell_type": "code",
      "execution_count": null,
      "metadata": {
        "colab": {
          "base_uri": "https://localhost:8080/"
        },
        "id": "iha54QgTwRHk",
        "outputId": "9fe9c1cd-766f-4b0a-9077-bbed5a95d369"
      },
      "outputs": [],
      "source": [
        "# Computing the Optimal Cost \n",
        "optimalCost = 0\n",
        "for i in cost:\n",
        "    optimalCost += i[0]\n",
        "print(optimalCost)"
      ]
    },
    {
      "cell_type": "code",
      "execution_count": 10,
      "metadata": {
        "id": "3xJQPs6l06Pf"
      },
      "outputs": [],
      "source": [
        "act = list(action)\n",
        "battery_ = list(battery)\n",
        "net_energy_ = list(net_energy)"
      ]
    },
    {
      "cell_type": "code",
      "execution_count": null,
      "metadata": {
        "colab": {
          "base_uri": "https://localhost:8080/"
        },
        "id": "qItnluxV1QeO",
        "outputId": "92ecea2a-b410-4995-9f93-bf638dba6ba6"
      },
      "outputs": [],
      "source": [
        "# Considering Wind and Solar Generation\n",
        "cost = 0\n",
        "for i in range(steps):\n",
        "    net_energy__ = load[i]-solar[i]-wind[i] # The demand is just met by the solar and wind energy\n",
        "    if net_energy__ > 0:\n",
        "        cost += net_energy__*price[i]\n",
        "    else:\n",
        "        cost += net_energy__*price[i]*parameters['sell_back_price_factor']\n",
        "print('Real Cost', cost)\n",
        "print('Optimised Cost', optimalCost)\n",
        "print('Money Saved', cost - optimalCost)\n",
        "print('Percentage Saved', (cost - optimalCost)*100/cost)\n"
      ]
    },
    {
      "cell_type": "code",
      "execution_count": null,
      "metadata": {},
      "outputs": [],
      "source": [
        "plot_start = 0\n",
        "plot_end = 20\n",
        "\n",
        "plotter(\n",
        "    data = 1,\n",
        "    action = 1,\n",
        "    battery = 1,\n",
        "    net_energy = 0,\n",
        "    act = act[plot_start:plot_end],\n",
        "    battery_ = battery_[plot_start:plot_end],\n",
        "    net_energy_=net_energy_[plot_start:plot_end] ,\n",
        "    load=load[plot_start:plot_end],\n",
        "    solar=solar[plot_start:plot_end],\n",
        "    wind=wind[plot_start:plot_end],\n",
        "    price=price[plot_start:plot_end],\n",
        "\n",
        ")"
      ]
    }
  ],
  "metadata": {
    "colab": {
      "provenance": []
    },
    "kernelspec": {
      "display_name": "Python 3",
      "name": "python3"
    },
    "language_info": {
      "codemirror_mode": {
        "name": "ipython",
        "version": 3
      },
      "file_extension": ".py",
      "mimetype": "text/x-python",
      "name": "python",
      "nbconvert_exporter": "python",
      "pygments_lexer": "ipython3",
      "version": "3.9.13"
    }
  },
  "nbformat": 4,
  "nbformat_minor": 0
}
