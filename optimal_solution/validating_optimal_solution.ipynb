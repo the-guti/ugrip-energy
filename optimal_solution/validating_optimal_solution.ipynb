{
 "cells": [
  {
   "cell_type": "code",
   "execution_count": 1,
   "metadata": {},
   "outputs": [],
   "source": [
    "from environment import Environment\n",
    "import os\n",
    "import pandas as pd\n",
    "import pickle"
   ]
  },
  {
   "cell_type": "code",
   "execution_count": 2,
   "metadata": {},
   "outputs": [],
   "source": [
    "# Loading the action space\n",
    "with open('results_test.pkl', 'rb') as f:\n",
    "    test = pickle.load(f)\n",
    "action_test = test['action']\n",
    "# Loading the Test Data\n",
    "data_test = pd.read_csv('test.csv')\n",
    "\n",
    "\n"
   ]
  },
  {
   "cell_type": "code",
   "execution_count": 3,
   "metadata": {},
   "outputs": [],
   "source": [
    "# Loading the action space\n",
    "with open('results_train.pkl', 'rb') as f:\n",
    "    train = pickle.load(f)\n",
    "action_train = test['action']\n",
    "# Loading the Test Data\n",
    "data_train = pd.read_csv('train.csv')\n",
    "\n",
    "\n"
   ]
  },
  {
   "cell_type": "code",
   "execution_count": 3,
   "metadata": {},
   "outputs": [],
   "source": [
    "steps = len(action_test)\n",
    "action = [0 for i in range(steps)]"
   ]
  },
  {
   "cell_type": "code",
   "execution_count": 5,
   "metadata": {},
   "outputs": [],
   "source": [
    "# Initializing the environment \n",
    "env_test = Environment(\n",
    "    dataset='test.csv', \n",
    "    num_forecasting_steps=5, \n",
    "    battery_capacity=100, \n",
    "    initial_state_of_charge=0, \n",
    "    solar_power_installed=240, \n",
    "    wind_power_installed=120, \n",
    "    max_battery_charge_per_timestep=20, \n",
    "    sell_back_price_rate=0.5, \n",
    "    noise_influence=0, \n",
    "    emissions_per_kwh=50, \n",
    "    lambda_co2=0.8\n",
    "    \n",
    ")"
   ]
  },
  {
   "cell_type": "code",
   "execution_count": 6,
   "metadata": {},
   "outputs": [],
   "source": [
    "# Initializing the environment \n",
    "env_train = Environment(\n",
    "    dataset='train.csv', \n",
    "    num_forecasting_steps=5, \n",
    "    battery_capacity=100, \n",
    "    initial_state_of_charge=0, \n",
    "    solar_power_installed=240, \n",
    "    wind_power_installed=120, \n",
    "    max_battery_charge_per_timestep=20, \n",
    "    sell_back_price_rate=0.5, \n",
    "    noise_influence=0.01, \n",
    "    emissions_per_kwh=50, \n",
    "    lambda_co2=0.8\n",
    "    \n",
    ")"
   ]
  },
  {
   "cell_type": "code",
   "execution_count": 8,
   "metadata": {},
   "outputs": [
    {
     "name": "stdout",
     "output_type": "stream",
     "text": [
      "998615.8138257622\n"
     ]
    }
   ],
   "source": [
    "# When Doing nothing \n",
    "steps = len(action)\n",
    "cost = 0\n",
    "for i in range(steps):\n",
    "    out = env_test.step(action[i])\n",
    "    cost += out[0]\n",
    "print(cost)"
   ]
  },
  {
   "cell_type": "code",
   "execution_count": 6,
   "metadata": {},
   "outputs": [
    {
     "name": "stdout",
     "output_type": "stream",
     "text": [
      "2463763.185252545\n"
     ]
    }
   ],
   "source": [
    "# For the train Set\n",
    "steps = len(action_train)\n",
    "cost_train = 0\n",
    "for i in range(steps):\n",
    "    out = env_train.step(action_train[i])\n",
    "    cost_train += out[0]\n",
    "print(cost_train)"
   ]
  },
  {
   "cell_type": "code",
   "execution_count": 3,
   "metadata": {},
   "outputs": [],
   "source": [
    "# Loading the Data\n",
    "data = pd.read_csv('test.csv')\n",
    "load = data.load\n",
    "solar = 0.24*data.solar\n",
    "wind = 0.12*data.wind\n",
    "price_test = data.price\n",
    "steps = 100"
   ]
  },
  {
   "cell_type": "code",
   "execution_count": 4,
   "metadata": {},
   "outputs": [],
   "source": [
    "cost = test['cost']\n",
    "net_energy_optimal = test['net_energy']"
   ]
  },
  {
   "cell_type": "code",
   "execution_count": 5,
   "metadata": {},
   "outputs": [
    {
     "name": "stdout",
     "output_type": "stream",
     "text": [
      "Case C\n",
      "Case C\n",
      "Case C\n",
      "Case C\n",
      "Case C\n",
      "Case C\n",
      "Case C\n",
      "Case C\n",
      "Case C\n",
      "Case C\n",
      "Case C\n",
      "Case C\n",
      "Case C\n",
      "Case C\n",
      "Case C\n",
      "Case C\n",
      "Case C\n",
      "Case C\n",
      "Case C\n",
      "Case C\n",
      "Case C\n",
      "Case C\n",
      "Case C\n",
      "Case C\n",
      "Case C\n",
      "Case C\n",
      "Case C\n",
      "Case C\n",
      "Case C\n",
      "Case C\n",
      "Case C\n",
      "Case C\n",
      "Case C\n",
      "Case C\n",
      "Case C\n",
      "Case C\n",
      "Case C\n",
      "Case C\n",
      "Case C\n",
      "Case C\n",
      "Case C\n",
      "Case C\n",
      "Case C\n",
      "Case C\n",
      "Case C\n",
      "Case C\n",
      "Case C\n",
      "Case C\n",
      "Case C\n",
      "Case C\n",
      "Case C\n",
      "Case C\n",
      "Case C\n",
      "Case C\n",
      "Case C\n",
      "Case C\n",
      "Case C\n",
      "Case C\n",
      "Case C\n",
      "Case C\n",
      "Case C\n",
      "Case C\n",
      "Case C\n",
      "Case C\n",
      "Case C\n",
      "Case C\n",
      "Case C\n",
      "Case C\n",
      "Case C\n",
      "Case C\n",
      "Case C\n",
      "Case C\n",
      "Case C\n",
      "Case C\n",
      "Case C\n",
      "Case C\n",
      "Case C\n",
      "Case C\n",
      "Case C\n",
      "Case C\n",
      "Case C\n",
      "Case C\n",
      "Case C\n",
      "Case C\n",
      "Case C\n",
      "Case C\n",
      "Case C\n",
      "Case C\n",
      "Case C\n",
      "Case C\n",
      "Case C\n",
      "Case C\n",
      "Case C\n",
      "Case C\n",
      "Case C\n",
      "Case C\n",
      "Case C\n",
      "Case C\n",
      "Case C\n",
      "Case C\n",
      "Case C\n",
      "Case C\n",
      "Case C\n",
      "Case C\n",
      "Case C\n",
      "Case C\n",
      "Case C\n",
      "Case C\n",
      "Case C\n",
      "Case C\n",
      "Case C\n",
      "Case C\n",
      "Case C\n",
      "Case C\n",
      "Case C\n",
      "Case C\n",
      "Case C\n",
      "Case C\n",
      "Case C\n",
      "Case C\n",
      "Case C\n",
      "Case C\n",
      "Case C\n",
      "Case C\n",
      "Case C\n",
      "Case C\n",
      "Case C\n",
      "Case C\n",
      "Case C\n",
      "Case C\n",
      "Case C\n",
      "Case C\n",
      "Case C\n",
      "Case C\n",
      "Case C\n",
      "Case C\n",
      "Case C\n",
      "Case C\n",
      "Case C\n",
      "Case A\n",
      "3.581135388230905e-12 EC\n",
      "-5.379999999996411 EC_Battery\n",
      "0.0 solar_generation_of_this_timestep\n",
      "135.12 wind\n",
      "140.5 electricity_load_of_this_timestep\n",
      "-5.380000000000001\n",
      "0.0 hola boi\n",
      "2.141518962162081e-10 0.0 hola\n",
      "191905.48550000007\n",
      "191905.48549999995\n"
     ]
    }
   ],
   "source": [
    "env_test = Environment(\n",
    "    dataset='test.csv', \n",
    "    num_forecasting_steps=5, \n",
    "    battery_capacity=100, \n",
    "    initial_state_of_charge=0, \n",
    "    solar_power_installed=240, \n",
    "    wind_power_installed=120, \n",
    "    max_battery_charge_per_timestep=20,\n",
    "    sell_back_price_rate=0.5, \n",
    "    noise_influence=0, \n",
    "    emissions_per_kwh=50, \n",
    "    lambda_co2=0.8\n",
    "    \n",
    ")\n",
    "\n",
    "steps = len(action_test)\n",
    "cost_test = 0\n",
    "cost_op = 0\n",
    "for i in range(steps):\n",
    "    # print(load[i], solar[i], wind[i], 'Directly from data')\n",
    "    # out = round(env_test.step(action_test[i])[0], 4)\n",
    "    out = env_test.step(action_test[i])[0]\n",
    "    # print(out, 'from environment')\n",
    "    # print(cost[i], 'from optimal')\n",
    "    # print(net_energy_optimal[i][0])\n",
    "    # print(price_test[i])\n",
    "    if net_energy_optimal[i][0] > 0:\n",
    "        # out_c = round(net_energy_optimal[i][0]*price_test[i], 4)\n",
    "        out_c = net_energy_optimal[i][0]*price_test[i]\n",
    "        # print(round(out_c, 4))\n",
    "    else:\n",
    "        out_c = net_energy_optimal[i][0]*price_test[i]*0.5\n",
    "        # print(round(out_c, 4))\n",
    "    cost_test += out\n",
    "    cost_op += out_c\n",
    "    if i == 139:\n",
    "        print(net_energy_optimal[i][0] , 'hola boi')\n",
    "        print(out, out_c , 'hola')\n",
    "    # cost_test = round(cost_test, 4)\n",
    "    # cost_op = round(cost_op, 4)\n",
    "    # if abs(cost_op - cost_test) > 1:\n",
    "        # print(cost_test , cost_op , i)\n",
    "    \n",
    "print(cost_test)\n",
    "print(cost_op)"
   ]
  },
  {
   "cell_type": "code",
   "execution_count": 24,
   "metadata": {},
   "outputs": [
    {
     "name": "stdout",
     "output_type": "stream",
     "text": [
      "0.0 net_energy_n\n",
      "140.5 load\n",
      "135.12 wind\n",
      "0.0 solar\n",
      "-5.380000000000001\n"
     ]
    }
   ],
   "source": [
    "# This will be for the optimal part\n",
    "n = 139\n",
    "net_energy_n = (action_test[n][0]*20 + load[n] - solar[n] - wind[n])\n",
    "print(net_energy_n , 'net_energy_n')\n",
    "print(load[n], 'load')\n",
    "print(wind[n], 'wind')\n",
    "print(solar[n], 'solar')\n",
    "print(action_test[n][0]*20)"
   ]
  },
  {
   "cell_type": "code",
   "execution_count": 9,
   "metadata": {},
   "outputs": [
    {
     "name": "stdout",
     "output_type": "stream",
     "text": [
      "-397992.2393908221\n",
      "-273817.5455773019\n"
     ]
    },
    {
     "data": {
      "text/plain": [
       "-124174.69381352025"
      ]
     },
     "execution_count": 9,
     "metadata": {},
     "output_type": "execute_result"
    }
   ],
   "source": [
    "print(test['optimalCost'])\n",
    "print(cost_test)\n",
    "test['optimalCost'] - cost_test"
   ]
  }
 ],
 "metadata": {
  "kernelspec": {
   "display_name": "Python 3",
   "language": "python",
   "name": "python3"
  },
  "language_info": {
   "codemirror_mode": {
    "name": "ipython",
    "version": 3
   },
   "file_extension": ".py",
   "mimetype": "text/x-python",
   "name": "python",
   "nbconvert_exporter": "python",
   "pygments_lexer": "ipython3",
   "version": "3.9.13"
  },
  "orig_nbformat": 4
 },
 "nbformat": 4,
 "nbformat_minor": 2
}
