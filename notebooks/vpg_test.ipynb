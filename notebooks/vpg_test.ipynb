{
 "cells": [
  {
   "cell_type": "code",
   "execution_count": 3,
   "metadata": {},
   "outputs": [
    {
     "ename": "ModuleNotFoundError",
     "evalue": "No module named 'building_energy_storage_simulation'",
     "output_type": "error",
     "traceback": [
      "\u001b[0;31m---------------------------------------------------------------------------\u001b[0m",
      "\u001b[0;31mModuleNotFoundError\u001b[0m                       Traceback (most recent call last)",
      "Cell \u001b[0;32mIn[3], line 4\u001b[0m\n\u001b[1;32m      2\u001b[0m \u001b[39mimport\u001b[39;00m \u001b[39myaml\u001b[39;00m\n\u001b[1;32m      3\u001b[0m \u001b[39mfrom\u001b[39;00m \u001b[39mstable_baselines3\u001b[39;00m\u001b[39m.\u001b[39;00m\u001b[39mcommon\u001b[39;00m\u001b[39m.\u001b[39;00m\u001b[39mvec_env\u001b[39;00m \u001b[39mimport\u001b[39;00m DummyVecEnv, VecNormalize\n\u001b[0;32m----> 4\u001b[0m \u001b[39mfrom\u001b[39;00m \u001b[39mbuilding_energy_storage_simulation\u001b[39;00m \u001b[39mimport\u001b[39;00m Environment\n\u001b[1;32m      5\u001b[0m \u001b[39mfrom\u001b[39;00m \u001b[39mstable_baselines3\u001b[39;00m \u001b[39mimport\u001b[39;00m PPO, DDPG\n\u001b[1;32m      6\u001b[0m \u001b[39mfrom\u001b[39;00m \u001b[39mstable_baselines3\u001b[39;00m\u001b[39m.\u001b[39;00m\u001b[39mcommon\u001b[39;00m\u001b[39m.\u001b[39;00m\u001b[39mmonitor\u001b[39;00m \u001b[39mimport\u001b[39;00m Monitor\n",
      "\u001b[0;31mModuleNotFoundError\u001b[0m: No module named 'building_energy_storage_simulation'"
     ]
    }
   ],
   "source": [
    "import os\n",
    "import yaml\n",
    "from stable_baselines3.common.vec_env import DummyVecEnv, VecNormalize\n",
    "from building_energy_storage_simulation import Environment\n",
    "from stable_baselines3 import PPO, DDPG\n",
    "from stable_baselines3.common.monitor import Monitor\n",
    "import pandas as pd\n",
    "import matplotlib.pyplot as plt\n",
    "import pickle \n",
    "import torch\n",
    "import torch.nn as nn\n",
    "from torch.distributions import Categorical\n",
    "from torch import softmax"
   ]
  },
  {
   "cell_type": "code",
   "execution_count": null,
   "metadata": {},
   "outputs": [],
   "source": [
    "# Define the path to the saved model and logs\n",
    "logs_path = \"logs/ppo/1686578523\"\n",
    "\n",
    "# Load environment configuration from file\n",
    "environment_config_path = os.path.join(\"configs\", \"env.yaml\")\n",
    "with open(environment_config_path, \"r\") as f:\n",
    "    environment_config = yaml.safe_load(f)\n",
    "\n",
    "# Initialize the environment with test dataset\n",
    "env = Environment(dataset=\"test.csv\", **environment_config)\n",
    "\n",
    "# Wrap the environment with Monitor for logging and DummyVecEnv for normalization\n",
    "env = Monitor(env, filename=None)\n",
    "env = DummyVecEnv([lambda: env])\n",
    "env = VecNormalize.load(os.path.join(logs_path, \"env.pkl\"), env)\n",
    "\n",
    "# Load the trained model\n",
    "model = PPO.load(os.path.join(logs_path, \"model\"), env=env)"
   ]
  },
  {
   "cell_type": "code",
   "execution_count": null,
   "metadata": {},
   "outputs": [],
   "source": [
    "#VPG \n",
    "class NNModel(nn.Module):\n",
    "    def __init__(self, input_dim, output_dim): \n",
    "        super(NNModel, self).__init__()\n",
    "        self.fc1 = nn.Linear(input_dim, 32)\n",
    "        self.fc2 = nn.Linear(32, 64)\n",
    "        self.fc3 = nn.Linear(64, 20)\n",
    "    \n",
    "    def forward(self, x): \n",
    "        x = torch.relu(self.fc1(x))\n",
    "        x = torch.relu(self.fc2(x))\n",
    "        return softmax(self.fc3(x), dim=1)\n",
    "    \n",
    "    def predict(self, x):\n",
    "        with torch.no_grad():\n",
    "            output = self.forward(x)\n",
    "            action = Categorical(output).sample().item()\n",
    "            if(action <= 10): \n",
    "                action *= -1\n",
    "            else: \n",
    "                action -= 10\n",
    "            action *= 0.1\n",
    "            return torch.tensor([[action]])\n"
   ]
  },
  {
   "cell_type": "code",
   "execution_count": null,
   "metadata": {},
   "outputs": [],
   "source": [
    "#vpg \n",
    "# Define the path to the saved model and logs\n",
    "logs_path = \"logs/vpg/1686578902\"\n",
    "\n",
    "# Load environment configuration from file\n",
    "environment_config_path = os.path.join(\"configs\", \"env.yaml\")\n",
    "with open(environment_config_path, \"r\") as f:\n",
    "    environment_config = yaml.safe_load(f)\n",
    "\n",
    "# Initialize the environment with test dataset\n",
    "env = Environment(dataset=\"test.csv\", **environment_config)\n",
    "\n",
    "# Wrap the environment with Monitor for logging and DummyVecEnv for normalization\n",
    "env = Monitor(env, filename=None)\n",
    "env = DummyVecEnv([lambda: env])\n",
    "env = VecNormalize.load(os.path.join(logs_path, \"env.pkl\"), env)\n",
    "\n",
    "# Load the trained model\n",
    "model = NNModel(16, 20)\n",
    "model.load_state_dict(torch.load(os.path.join(logs_path, \"model.pth\")))"
   ]
  },
  {
   "cell_type": "code",
   "execution_count": null,
   "metadata": {},
   "outputs": [],
   "source": [
    "env.training = False\n",
    "\n",
    "actions, observations, electricity_consumption, excess_energy, cost_of_external_generator, rewards = ([], [], [], [], [], [])\n",
    "done = False\n",
    "obs = env.reset()\n",
    "while not done:\n",
    "        action = model.predict(torch.as_tensor(obs, dtype=torch.float32))\n",
    "        obs, r, done, info = env.step([float(action.detach())])\n",
    "        actions.append(action.item())\n",
    "        original_reward = env.get_original_reward()[0]\n",
    "        original_obs = env.get_original_obs()[0]\n",
    "        observations.append(original_obs)\n",
    "        electricity_consumption.append(info[0]['electricity_consumption'])\n",
    "        excess_energy.append(info[0]['excess_energy'])\n",
    "        cost_of_external_generator.append(info[0]['cost_of_external_generator'])\n",
    "        rewards.append(r)\n",
    "\n",
    "trajectory = pd.DataFrame({\n",
    "        'action': actions,\n",
    "        'observations': observations,\n",
    "        'electricity_consumption': electricity_consumption,\n",
    "        'excess_energy': excess_energy,\n",
    "        'cost_of_external_generator': cost_of_external_generator,\n",
    "        'reward': rewards\n",
    "    })\n",
    "\n",
    "trajectory.to_csv(os.path.join(logs_path, \"test_results.csv\"), index=False)"
   ]
  },
  {
   "cell_type": "code",
   "execution_count": null,
   "metadata": {},
   "outputs": [],
   "source": [
    "def plot_scores(scores, rolling_window=100):\n",
    "    \"\"\"Plot scores and optional rolling mean using specified window.\"\"\"\n",
    "    plt.plot(scores); plt.title(\"Scores\");\n",
    "    rolling_mean = pd.Series(scores).rolling(rolling_window).mean()\n",
    "    plt.plot(rolling_mean, c='r');\n",
    "    return rolling_mean\n",
    "\n",
    "rolling_mean = plot_scores(trajectory['reward'])"
   ]
  },
  {
   "cell_type": "code",
   "execution_count": null,
   "metadata": {},
   "outputs": [],
   "source": [
    "trajectory"
   ]
  },
  {
   "cell_type": "code",
   "execution_count": null,
   "metadata": {},
   "outputs": [],
   "source": [
    "day_number = 0\n",
    "plot_data = trajectory[day_number * 24 : (day_number + 3) * 24]\n",
    "observation_df = plot_data['observations'].apply(pd.Series)\n",
    "\n",
    "plt.rcParams[\"figure.figsize\"] = (16,4)\n",
    "\n",
    "fig, ax = plt.subplots()\n",
    "ax.plot(observation_df[0], label = 'state of charge')\n",
    "ax.plot(observation_df[1], label = 'electric load')\n",
    "ax.plot(observation_df[6], label = 'solar generation')\n",
    "ax.plot(observation_df[11], label = 'external generator cost')\n",
    "ax.plot(plot_data['excess_energy'], label = 'excess energy')\n",
    "ax.plot(plot_data['electricity_consumption'], label = 'electricity consumption')\n",
    "\n",
    "ax1 = ax.twinx()\n",
    "ax1.plot(plot_data['action'], label = 'action', color = 'black')\n",
    "fig.legend(bbox_to_anchor=[0.5, 0.95], loc = 'center', ncol=5, prop={'size': 16})"
   ]
  },
  {
   "cell_type": "code",
   "execution_count": null,
   "metadata": {},
   "outputs": [],
   "source": [
    "env.training = False\n",
    "\n",
    "costs = []\n",
    "done = False\n",
    "obs = env.reset()\n",
    "while not done:\n",
    "    action = model.predict(torch.as_tensor(obs, dtype=torch.float32))\n",
    "    obs, r, done, info = env.step([float(action.detach())])\n",
    "    costs.append(info[0]['cost_of_external_generator'])\n",
    "\n",
    "total_costs = sum(costs)"
   ]
  },
  {
   "cell_type": "code",
   "execution_count": null,
   "metadata": {},
   "outputs": [],
   "source": [
    "env.training = False\n",
    "\n",
    "baseline_costs = []\n",
    "done = False\n",
    "obs = env.reset()\n",
    "while not done:\n",
    "    # Always taking noop as action. This is the electricity demand if there would be no battery\n",
    "    action = [0]\n",
    "    obs, r, done, info = env.step(action)\n",
    "    baseline_costs.append(info[0]['cost_of_external_generator'])\n",
    "\n",
    "baseline_total_costs = sum(baseline_costs)"
   ]
  },
  {
   "cell_type": "code",
   "execution_count": null,
   "metadata": {},
   "outputs": [],
   "source": [
    "money_saved = baseline_total_costs - total_costs\n",
    "percentage_saved = money_saved / baseline_total_costs * 100\n",
    "print(f'Money saved: {money_saved} $')\n",
    "print(f'Percentage saved: {percentage_saved} %')"
   ]
  }
 ],
 "metadata": {
  "kernelspec": {
   "display_name": "Python 3",
   "language": "python",
   "name": "python3"
  },
  "language_info": {
   "codemirror_mode": {
    "name": "ipython",
    "version": 3
   },
   "file_extension": ".py",
   "mimetype": "text/x-python",
   "name": "python",
   "nbconvert_exporter": "python",
   "pygments_lexer": "ipython3",
   "version": "3.8.16"
  },
  "orig_nbformat": 4,
  "vscode": {
   "interpreter": {
    "hash": "16e50eb226026a8db9049f08ab0bfd14a6a5d1e5797a29f675272dba1c011fc1"
   }
  }
 },
 "nbformat": 4,
 "nbformat_minor": 2
}
