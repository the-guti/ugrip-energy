{
 "cells": [
  {
   "cell_type": "code",
   "execution_count": 17,
   "metadata": {},
   "outputs": [],
   "source": [
    "from environment import Environment\n",
    "import pandas as pd\n",
    "import pickle"
   ]
  },
  {
   "cell_type": "code",
   "execution_count": 2,
   "metadata": {},
   "outputs": [],
   "source": [
    "# Loading the Optitmal action space - Test\n",
    "with open('results_test.pkl', 'rb') as f:\n",
    "    test = pickle.load(f)\n",
    "action_test = test['action']\n",
    "# Loading the Test Data\n",
    "data_test = pd.read_csv('test.csv')\n",
    "\n",
    "\n"
   ]
  },
  {
   "cell_type": "code",
   "execution_count": 3,
   "metadata": {},
   "outputs": [],
   "source": [
    "# Loading the Optimal action space -Train\n",
    "with open('results_train.pkl', 'rb') as f:\n",
    "    train = pickle.load(f)\n",
    "action_train = test['action']\n",
    "# Loading the Test Data\n",
    "data_train = pd.read_csv('train.csv')\n",
    "\n",
    "\n"
   ]
  },
  {
   "cell_type": "code",
   "execution_count": 4,
   "metadata": {},
   "outputs": [],
   "source": [
    "# Action Space for Doing nothing\n",
    "\n",
    "steps = len(action_test)\n",
    "action_do_nothing_test = [0 for i in range(steps)]\n",
    "steps = len(action_train)\n",
    "action_do_nothing_train = [0 for i in range(steps)]"
   ]
  },
  {
   "cell_type": "code",
   "execution_count": 5,
   "metadata": {},
   "outputs": [
    {
     "name": "stdout",
     "output_type": "stream",
     "text": [
      "Total Cost when doing nothing:  998615.8138257622\n"
     ]
    }
   ],
   "source": [
    "# Validating the Optimal Solution for Test\n",
    "env_test = Environment(\n",
    "    dataset='test.csv', \n",
    "    num_forecasting_steps=5, \n",
    "    battery_capacity=100, \n",
    "    initial_state_of_charge=0, \n",
    "    solar_power_installed=240, \n",
    "    wind_power_installed=120, \n",
    "    max_battery_charge_per_timestep=20, \n",
    "    sell_back_price_rate=0.5, \n",
    "    noise_influence=0, \n",
    "    emissions_per_kwh=50, \n",
    "    lambda_co2=0.8\n",
    "    \n",
    ")\n",
    "\n",
    "# When Doing nothing \n",
    "steps = len(action_do_nothing_test)\n",
    "cost_do_nothing_test = 0\n",
    "for i in range(steps):\n",
    "    out = env_test.step(action_do_nothing_test[i])\n",
    "    cost_do_nothing_test += out[0]\n",
    "print('Total Cost when doing nothing: ', cost_do_nothing_test)"
   ]
  },
  {
   "cell_type": "code",
   "execution_count": 15,
   "metadata": {},
   "outputs": [
    {
     "name": "stdout",
     "output_type": "stream",
     "text": [
      "Optimal cost for test set:  -397992.2393912269\n",
      "Money Saved =  1396608.0532169892\n"
     ]
    }
   ],
   "source": [
    "# Computing the cost when optimal action space is used - Test Set\n",
    "env_test = Environment(\n",
    "    dataset='test.csv', \n",
    "    num_forecasting_steps=5, \n",
    "    battery_capacity=100, \n",
    "    initial_state_of_charge=0, \n",
    "    solar_power_installed=240, \n",
    "    wind_power_installed=120, \n",
    "    max_battery_charge_per_timestep=20, \n",
    "    sell_back_price_rate=0.5, \n",
    "    noise_influence=0.01, \n",
    "    emissions_per_kwh=50, \n",
    "    lambda_co2=0.8\n",
    "    \n",
    ")\n",
    "\n",
    "# When Doing nothing \n",
    "steps = len(action_test)\n",
    "cost_optimal_test = 0\n",
    "for i in range(steps):\n",
    "    out = env_test.step(action_test[i])\n",
    "    cost_optimal_test += out[0]\n",
    "print('Optimal cost for test set: ', cost_optimal_test)\n",
    "print('Money Saved = ', cost_do_nothing_test - cost_optimal_test)"
   ]
  },
  {
   "cell_type": "code",
   "execution_count": 16,
   "metadata": {},
   "outputs": [
    {
     "name": "stdout",
     "output_type": "stream",
     "text": [
      "Total Cost when doing nothing:  3240253.663396323\n"
     ]
    }
   ],
   "source": [
    "# Validating the Optimal Solution for Train\n",
    "env_train = Environment(\n",
    "    dataset='train.csv', \n",
    "    num_forecasting_steps=5, \n",
    "    battery_capacity=100, \n",
    "    initial_state_of_charge=0, \n",
    "    solar_power_installed=240, \n",
    "    wind_power_installed=120, \n",
    "    max_battery_charge_per_timestep=20, \n",
    "    sell_back_price_rate=0.5, \n",
    "    noise_influence=0, \n",
    "    emissions_per_kwh=50, \n",
    "    lambda_co2=0.8\n",
    "    \n",
    ")\n",
    "\n",
    "# When Doing nothing \n",
    "steps = len(action_do_nothing_train)\n",
    "cost_do_nothing_train = 0\n",
    "for i in range(steps):\n",
    "    out = env_train.step(action_do_nothing_train[i])\n",
    "    cost_do_nothing_train += out[0]\n",
    "print('Total Cost when doing nothing: ', cost_do_nothing_train)"
   ]
  },
  {
   "cell_type": "code",
   "execution_count": 18,
   "metadata": {},
   "outputs": [
    {
     "name": "stdout",
     "output_type": "stream",
     "text": [
      "Optimal cost for train set:  2352909.00035159\n",
      "Money Saved =  887344.663044733\n"
     ]
    }
   ],
   "source": [
    "# Computing the cost when optimal action space is used - Test Set\n",
    "env_train = Environment(\n",
    "    dataset='train.csv', \n",
    "    num_forecasting_steps=5, \n",
    "    battery_capacity=100, \n",
    "    initial_state_of_charge=0, \n",
    "    solar_power_installed=240, \n",
    "    wind_power_installed=120, \n",
    "    max_battery_charge_per_timestep=20, \n",
    "    sell_back_price_rate=0.5, \n",
    "    noise_influence=0.01, \n",
    "    emissions_per_kwh=50, \n",
    "    lambda_co2=0.8\n",
    "    \n",
    ")\n",
    "\n",
    "# When Doing nothing \n",
    "steps = len(action_train)\n",
    "cost_optimal_train = 0\n",
    "for i in range(steps):\n",
    "    out = env_train.step(action_train[i])\n",
    "    cost_optimal_train += out[0]\n",
    "print('Optimal cost for train set: ', cost_optimal_train)\n",
    "print('Money Saved = ', cost_do_nothing_train - cost_optimal_train)"
   ]
  }
 ],
 "metadata": {
  "kernelspec": {
   "display_name": "Python 3",
   "language": "python",
   "name": "python3"
  },
  "language_info": {
   "codemirror_mode": {
    "name": "ipython",
    "version": 3
   },
   "file_extension": ".py",
   "mimetype": "text/x-python",
   "name": "python",
   "nbconvert_exporter": "python",
   "pygments_lexer": "ipython3",
   "version": "3.9.13"
  },
  "orig_nbformat": 4
 },
 "nbformat": 4,
 "nbformat_minor": 2
}
